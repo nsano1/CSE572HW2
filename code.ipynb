{
 "cells": [
  {
   "cell_type": "markdown",
   "metadata": {},
   "source": [
    "Initial installations if needed"
   ]
  },
  {
   "cell_type": "code",
   "execution_count": 1,
   "metadata": {},
   "outputs": [
    {
     "name": "stdout",
     "output_type": "stream",
     "text": [
      "Requirement already satisfied: nltk in c:\\users\\nsano\\source\\repos\\cse572hw2\\cse572\\lib\\site-packages (3.9.1)\n",
      "Requirement already satisfied: click in c:\\users\\nsano\\source\\repos\\cse572hw2\\cse572\\lib\\site-packages (from nltk) (8.1.8)\n",
      "Requirement already satisfied: joblib in c:\\users\\nsano\\source\\repos\\cse572hw2\\cse572\\lib\\site-packages (from nltk) (1.4.2)\n",
      "Requirement already satisfied: regex>=2021.8.3 in c:\\users\\nsano\\source\\repos\\cse572hw2\\cse572\\lib\\site-packages (from nltk) (2024.11.6)\n",
      "Requirement already satisfied: tqdm in c:\\users\\nsano\\source\\repos\\cse572hw2\\cse572\\lib\\site-packages (from nltk) (4.67.1)\n",
      "Requirement already satisfied: colorama in c:\\users\\nsano\\source\\repos\\cse572hw2\\cse572\\lib\\site-packages (from click->nltk) (0.4.6)\n",
      "Note: you may need to restart the kernel to use updated packages.\n"
     ]
    },
    {
     "name": "stderr",
     "output_type": "stream",
     "text": [
      "\n",
      "[notice] A new release of pip is available: 24.3.1 -> 25.0.1\n",
      "[notice] To update, run: python.exe -m pip install --upgrade pip\n"
     ]
    },
    {
     "name": "stdout",
     "output_type": "stream",
     "text": [
      "Requirement already satisfied: pandas in c:\\users\\nsano\\source\\repos\\cse572hw2\\cse572\\lib\\site-packages (2.2.3)\n",
      "Requirement already satisfied: numpy>=1.26.0 in c:\\users\\nsano\\source\\repos\\cse572hw2\\cse572\\lib\\site-packages (from pandas) (2.2.4)\n",
      "Requirement already satisfied: python-dateutil>=2.8.2 in c:\\users\\nsano\\source\\repos\\cse572hw2\\cse572\\lib\\site-packages (from pandas) (2.9.0.post0)\n",
      "Requirement already satisfied: pytz>=2020.1 in c:\\users\\nsano\\source\\repos\\cse572hw2\\cse572\\lib\\site-packages (from pandas) (2025.1)\n",
      "Requirement already satisfied: tzdata>=2022.7 in c:\\users\\nsano\\source\\repos\\cse572hw2\\cse572\\lib\\site-packages (from pandas) (2025.1)\n",
      "Requirement already satisfied: six>=1.5 in c:\\users\\nsano\\source\\repos\\cse572hw2\\cse572\\lib\\site-packages (from python-dateutil>=2.8.2->pandas) (1.17.0)\n",
      "Note: you may need to restart the kernel to use updated packages.\n"
     ]
    },
    {
     "name": "stderr",
     "output_type": "stream",
     "text": [
      "\n",
      "[notice] A new release of pip is available: 24.3.1 -> 25.0.1\n",
      "[notice] To update, run: python.exe -m pip install --upgrade pip\n"
     ]
    },
    {
     "name": "stdout",
     "output_type": "stream",
     "text": [
      "Requirement already satisfied: numpy in c:\\users\\nsano\\source\\repos\\cse572hw2\\cse572\\lib\\site-packages (2.2.4)\n",
      "Note: you may need to restart the kernel to use updated packages.\n"
     ]
    },
    {
     "name": "stderr",
     "output_type": "stream",
     "text": [
      "\n",
      "[notice] A new release of pip is available: 24.3.1 -> 25.0.1\n",
      "[notice] To update, run: python.exe -m pip install --upgrade pip\n"
     ]
    }
   ],
   "source": [
    "%pip install nltk\n",
    "%pip install pandas\n",
    "%pip install numpy"
   ]
  },
  {
   "cell_type": "markdown",
   "metadata": {},
   "source": [
    "Initial preprocessing - used in HW 0 and 1"
   ]
  },
  {
   "cell_type": "code",
   "execution_count": 2,
   "metadata": {},
   "outputs": [
    {
     "name": "stderr",
     "output_type": "stream",
     "text": [
      "[nltk_data] Downloading package punkt_tab to\n",
      "[nltk_data]     C:\\Users\\nsano\\AppData\\Roaming\\nltk_data...\n",
      "[nltk_data]   Package punkt_tab is already up-to-date!\n",
      "[nltk_data] Downloading package stopwords to\n",
      "[nltk_data]     C:\\Users\\nsano\\AppData\\Roaming\\nltk_data...\n",
      "[nltk_data]   Package stopwords is already up-to-date!\n"
     ]
    },
    {
     "data": {
      "text/html": [
       "<div>\n",
       "<style scoped>\n",
       "    .dataframe tbody tr th:only-of-type {\n",
       "        vertical-align: middle;\n",
       "    }\n",
       "\n",
       "    .dataframe tbody tr th {\n",
       "        vertical-align: top;\n",
       "    }\n",
       "\n",
       "    .dataframe thead th {\n",
       "        text-align: right;\n",
       "    }\n",
       "</style>\n",
       "<table border=\"1\" class=\"dataframe\">\n",
       "  <thead>\n",
       "    <tr style=\"text-align: right;\">\n",
       "      <th></th>\n",
       "      <th>ArticleId</th>\n",
       "      <th>Text</th>\n",
       "      <th>Category</th>\n",
       "      <th>Processed_Text</th>\n",
       "    </tr>\n",
       "  </thead>\n",
       "  <tbody>\n",
       "    <tr>\n",
       "      <th>0</th>\n",
       "      <td>1429</td>\n",
       "      <td>sfa awaits report over mikoliunas the scottish...</td>\n",
       "      <td>sport</td>\n",
       "      <td>sfa await report mikoliuna scottish footbal as...</td>\n",
       "    </tr>\n",
       "    <tr>\n",
       "      <th>1</th>\n",
       "      <td>1896</td>\n",
       "      <td>parmalat to return to stockmarket parmalat  th...</td>\n",
       "      <td>business</td>\n",
       "      <td>parmalat return stockmarket parmalat italian d...</td>\n",
       "    </tr>\n",
       "    <tr>\n",
       "      <th>2</th>\n",
       "      <td>1633</td>\n",
       "      <td>edu blasts arsenal arsenal s brazilian midfiel...</td>\n",
       "      <td>sport</td>\n",
       "      <td>edu blast arsen arsen brazilian midfield edu h...</td>\n",
       "    </tr>\n",
       "    <tr>\n",
       "      <th>3</th>\n",
       "      <td>2178</td>\n",
       "      <td>henman decides to quit davis cup tim henman ha...</td>\n",
       "      <td>sport</td>\n",
       "      <td>henman decid quit davi cup tim henman retir gr...</td>\n",
       "    </tr>\n",
       "    <tr>\n",
       "      <th>4</th>\n",
       "      <td>194</td>\n",
       "      <td>french suitor holds lse meeting european stock...</td>\n",
       "      <td>business</td>\n",
       "      <td>french suitor hold lse meet european stock mar...</td>\n",
       "    </tr>\n",
       "    <tr>\n",
       "      <th>...</th>\n",
       "      <td>...</td>\n",
       "      <td>...</td>\n",
       "      <td>...</td>\n",
       "      <td>...</td>\n",
       "    </tr>\n",
       "    <tr>\n",
       "      <th>995</th>\n",
       "      <td>1250</td>\n",
       "      <td>blair  damaged  by blunkett row a majority of ...</td>\n",
       "      <td>politics</td>\n",
       "      <td>blair damag blunkett row major voter 68 believ...</td>\n",
       "    </tr>\n",
       "    <tr>\n",
       "      <th>996</th>\n",
       "      <td>1639</td>\n",
       "      <td>a november to remember last saturday  one news...</td>\n",
       "      <td>sport</td>\n",
       "      <td>novemb rememb last saturday one newspap procla...</td>\n",
       "    </tr>\n",
       "    <tr>\n",
       "      <th>997</th>\n",
       "      <td>916</td>\n",
       "      <td>highbury tunnel players in clear the football ...</td>\n",
       "      <td>sport</td>\n",
       "      <td>highburi tunnel player clear footbal associ sa...</td>\n",
       "    </tr>\n",
       "    <tr>\n",
       "      <th>998</th>\n",
       "      <td>2217</td>\n",
       "      <td>top stars join us tsunami tv show brad pitt  r...</td>\n",
       "      <td>entertainment</td>\n",
       "      <td>top star join us tsunami tv show brad pitt rob...</td>\n",
       "    </tr>\n",
       "    <tr>\n",
       "      <th>999</th>\n",
       "      <td>902</td>\n",
       "      <td>eastwood s baby scoops top oscars clint eastwo...</td>\n",
       "      <td>entertainment</td>\n",
       "      <td>eastwood babi scoop top oscar clint eastwood m...</td>\n",
       "    </tr>\n",
       "  </tbody>\n",
       "</table>\n",
       "<p>1000 rows × 4 columns</p>\n",
       "</div>"
      ],
      "text/plain": [
       "     ArticleId                                               Text  \\\n",
       "0         1429  sfa awaits report over mikoliunas the scottish...   \n",
       "1         1896  parmalat to return to stockmarket parmalat  th...   \n",
       "2         1633  edu blasts arsenal arsenal s brazilian midfiel...   \n",
       "3         2178  henman decides to quit davis cup tim henman ha...   \n",
       "4          194  french suitor holds lse meeting european stock...   \n",
       "..         ...                                                ...   \n",
       "995       1250  blair  damaged  by blunkett row a majority of ...   \n",
       "996       1639  a november to remember last saturday  one news...   \n",
       "997        916  highbury tunnel players in clear the football ...   \n",
       "998       2217  top stars join us tsunami tv show brad pitt  r...   \n",
       "999        902  eastwood s baby scoops top oscars clint eastwo...   \n",
       "\n",
       "          Category                                     Processed_Text  \n",
       "0            sport  sfa await report mikoliuna scottish footbal as...  \n",
       "1         business  parmalat return stockmarket parmalat italian d...  \n",
       "2            sport  edu blast arsen arsen brazilian midfield edu h...  \n",
       "3            sport  henman decid quit davi cup tim henman retir gr...  \n",
       "4         business  french suitor hold lse meet european stock mar...  \n",
       "..             ...                                                ...  \n",
       "995       politics  blair damag blunkett row major voter 68 believ...  \n",
       "996          sport  novemb rememb last saturday one newspap procla...  \n",
       "997          sport  highburi tunnel player clear footbal associ sa...  \n",
       "998  entertainment  top star join us tsunami tv show brad pitt rob...  \n",
       "999  entertainment  eastwood babi scoop top oscar clint eastwood m...  \n",
       "\n",
       "[1000 rows x 4 columns]"
      ]
     },
     "execution_count": 2,
     "metadata": {},
     "output_type": "execute_result"
    }
   ],
   "source": [
    "# ----- PRE PROCESSING -----\n",
    "import string\n",
    "import nltk\n",
    "from nltk.corpus import stopwords\n",
    "from nltk.stem.porter import *\n",
    "import json\n",
    "import pandas as pd\n",
    "\n",
    "nltk.download('punkt_tab')\n",
    "nltk.download('stopwords')\n",
    "\n",
    "# stemming tool from nltk\n",
    "stemmer = PorterStemmer()\n",
    "# a mapping dictionary that help remove punctuations\n",
    "remove_punctuation_map = dict((ord(char), None) for char in string.punctuation)\n",
    "def get_tokens(text):\n",
    "  # turn document into lowercase\n",
    "  lowers = text.lower()\n",
    "  # remove punctuations\n",
    "  no_punctuation = lowers.translate(remove_punctuation_map)\n",
    "  # tokenize document\n",
    "  tokens = nltk.word_tokenize(no_punctuation)\n",
    "  # remove stop words\n",
    "  filtered = [w for w in tokens if not w in stopwords.words('english')]\n",
    "  # stemming process\n",
    "  stemmed = []\n",
    "  for item in filtered:\n",
    "      stemmed.append(stemmer.stem(item))\n",
    "  # final unigrams\n",
    "  return stemmed\n",
    "\n",
    "traningData = pd.read_csv('24_train_3.csv', header='infer')\n",
    "# Use HW 0  token filtering step\n",
    "traningData['Processed_Text'] = traningData['Text'].apply(lambda x: ' '.join(get_tokens(str(x))))\n",
    "traningData"
   ]
  },
  {
   "cell_type": "markdown",
   "metadata": {},
   "source": [
    "Feature extraction methods - 4 methods, TFIDF, CountVectorizer, BERT, GPT"
   ]
  },
  {
   "cell_type": "code",
   "execution_count": 3,
   "metadata": {},
   "outputs": [
    {
     "name": "stdout",
     "output_type": "stream",
     "text": [
      "Requirement already satisfied: scikit-learn in c:\\users\\nsano\\source\\repos\\cse572hw2\\cse572\\lib\\site-packages (1.6.1)\n",
      "Requirement already satisfied: numpy>=1.19.5 in c:\\users\\nsano\\source\\repos\\cse572hw2\\cse572\\lib\\site-packages (from scikit-learn) (2.2.4)\n",
      "Requirement already satisfied: scipy>=1.6.0 in c:\\users\\nsano\\source\\repos\\cse572hw2\\cse572\\lib\\site-packages (from scikit-learn) (1.15.2)\n",
      "Requirement already satisfied: joblib>=1.2.0 in c:\\users\\nsano\\source\\repos\\cse572hw2\\cse572\\lib\\site-packages (from scikit-learn) (1.4.2)\n",
      "Requirement already satisfied: threadpoolctl>=3.1.0 in c:\\users\\nsano\\source\\repos\\cse572hw2\\cse572\\lib\\site-packages (from scikit-learn) (3.6.0)\n",
      "Note: you may need to restart the kernel to use updated packages.\n"
     ]
    },
    {
     "name": "stderr",
     "output_type": "stream",
     "text": [
      "\n",
      "[notice] A new release of pip is available: 24.3.1 -> 25.0.1\n",
      "[notice] To update, run: python.exe -m pip install --upgrade pip\n"
     ]
    },
    {
     "name": "stdout",
     "output_type": "stream",
     "text": [
      "Requirement already satisfied: transformers in c:\\users\\nsano\\source\\repos\\cse572hw2\\cse572\\lib\\site-packages (4.49.0)\n",
      "Requirement already satisfied: filelock in c:\\users\\nsano\\source\\repos\\cse572hw2\\cse572\\lib\\site-packages (from transformers) (3.18.0)\n",
      "Requirement already satisfied: huggingface-hub<1.0,>=0.26.0 in c:\\users\\nsano\\source\\repos\\cse572hw2\\cse572\\lib\\site-packages (from transformers) (0.29.3)\n",
      "Requirement already satisfied: numpy>=1.17 in c:\\users\\nsano\\source\\repos\\cse572hw2\\cse572\\lib\\site-packages (from transformers) (2.2.4)\n",
      "Requirement already satisfied: packaging>=20.0 in c:\\users\\nsano\\source\\repos\\cse572hw2\\cse572\\lib\\site-packages (from transformers) (24.2)\n",
      "Requirement already satisfied: pyyaml>=5.1 in c:\\users\\nsano\\source\\repos\\cse572hw2\\cse572\\lib\\site-packages (from transformers) (6.0.2)\n",
      "Requirement already satisfied: regex!=2019.12.17 in c:\\users\\nsano\\source\\repos\\cse572hw2\\cse572\\lib\\site-packages (from transformers) (2024.11.6)\n",
      "Requirement already satisfied: requests in c:\\users\\nsano\\source\\repos\\cse572hw2\\cse572\\lib\\site-packages (from transformers) (2.32.3)\n",
      "Requirement already satisfied: tokenizers<0.22,>=0.21 in c:\\users\\nsano\\source\\repos\\cse572hw2\\cse572\\lib\\site-packages (from transformers) (0.21.1)\n",
      "Requirement already satisfied: safetensors>=0.4.1 in c:\\users\\nsano\\source\\repos\\cse572hw2\\cse572\\lib\\site-packages (from transformers) (0.5.3)\n",
      "Requirement already satisfied: tqdm>=4.27 in c:\\users\\nsano\\source\\repos\\cse572hw2\\cse572\\lib\\site-packages (from transformers) (4.67.1)\n",
      "Requirement already satisfied: fsspec>=2023.5.0 in c:\\users\\nsano\\source\\repos\\cse572hw2\\cse572\\lib\\site-packages (from huggingface-hub<1.0,>=0.26.0->transformers) (2025.3.0)\n",
      "Requirement already satisfied: typing-extensions>=3.7.4.3 in c:\\users\\nsano\\source\\repos\\cse572hw2\\cse572\\lib\\site-packages (from huggingface-hub<1.0,>=0.26.0->transformers) (4.12.2)\n",
      "Requirement already satisfied: colorama in c:\\users\\nsano\\source\\repos\\cse572hw2\\cse572\\lib\\site-packages (from tqdm>=4.27->transformers) (0.4.6)\n",
      "Requirement already satisfied: charset-normalizer<4,>=2 in c:\\users\\nsano\\source\\repos\\cse572hw2\\cse572\\lib\\site-packages (from requests->transformers) (3.4.1)\n",
      "Requirement already satisfied: idna<4,>=2.5 in c:\\users\\nsano\\source\\repos\\cse572hw2\\cse572\\lib\\site-packages (from requests->transformers) (3.10)\n",
      "Requirement already satisfied: urllib3<3,>=1.21.1 in c:\\users\\nsano\\source\\repos\\cse572hw2\\cse572\\lib\\site-packages (from requests->transformers) (2.3.0)\n",
      "Requirement already satisfied: certifi>=2017.4.17 in c:\\users\\nsano\\source\\repos\\cse572hw2\\cse572\\lib\\site-packages (from requests->transformers) (2025.1.31)\n",
      "Note: you may need to restart the kernel to use updated packages.\n"
     ]
    },
    {
     "name": "stderr",
     "output_type": "stream",
     "text": [
      "\n",
      "[notice] A new release of pip is available: 24.3.1 -> 25.0.1\n",
      "[notice] To update, run: python.exe -m pip install --upgrade pip\n"
     ]
    },
    {
     "name": "stdout",
     "output_type": "stream",
     "text": [
      "Requirement already satisfied: torch in c:\\users\\nsano\\source\\repos\\cse572hw2\\cse572\\lib\\site-packages (2.6.0)\n",
      "Requirement already satisfied: filelock in c:\\users\\nsano\\source\\repos\\cse572hw2\\cse572\\lib\\site-packages (from torch) (3.18.0)\n",
      "Requirement already satisfied: typing-extensions>=4.10.0 in c:\\users\\nsano\\source\\repos\\cse572hw2\\cse572\\lib\\site-packages (from torch) (4.12.2)\n",
      "Requirement already satisfied: networkx in c:\\users\\nsano\\source\\repos\\cse572hw2\\cse572\\lib\\site-packages (from torch) (3.4.2)\n",
      "Requirement already satisfied: jinja2 in c:\\users\\nsano\\source\\repos\\cse572hw2\\cse572\\lib\\site-packages (from torch) (3.1.6)\n",
      "Requirement already satisfied: fsspec in c:\\users\\nsano\\source\\repos\\cse572hw2\\cse572\\lib\\site-packages (from torch) (2025.3.0)\n",
      "Requirement already satisfied: setuptools in c:\\users\\nsano\\source\\repos\\cse572hw2\\cse572\\lib\\site-packages (from torch) (76.1.0)\n",
      "Requirement already satisfied: sympy==1.13.1 in c:\\users\\nsano\\source\\repos\\cse572hw2\\cse572\\lib\\site-packages (from torch) (1.13.1)\n",
      "Requirement already satisfied: mpmath<1.4,>=1.1.0 in c:\\users\\nsano\\source\\repos\\cse572hw2\\cse572\\lib\\site-packages (from sympy==1.13.1->torch) (1.3.0)\n",
      "Requirement already satisfied: MarkupSafe>=2.0 in c:\\users\\nsano\\source\\repos\\cse572hw2\\cse572\\lib\\site-packages (from jinja2->torch) (3.0.2)\n",
      "Note: you may need to restart the kernel to use updated packages.\n"
     ]
    },
    {
     "name": "stderr",
     "output_type": "stream",
     "text": [
      "\n",
      "[notice] A new release of pip is available: 24.3.1 -> 25.0.1\n",
      "[notice] To update, run: python.exe -m pip install --upgrade pip\n"
     ]
    }
   ],
   "source": [
    "%pip install scikit-learn\n",
    "%pip install transformers\n",
    "%pip install torch"
   ]
  },
  {
   "cell_type": "code",
   "execution_count": 3,
   "metadata": {},
   "outputs": [],
   "source": [
    "import numpy as np\n",
    "from sklearn.feature_extraction.text import CountVectorizer, TfidfVectorizer\n",
    "from transformers import BertTokenizer, BertModel\n",
    "import torch\n",
    "\n",
    "# ----------- TfidfVectorizer method - convert to number - use TFIDF value -----------\n",
    "tfidf_vectorizer = TfidfVectorizer() # like hw 1\n",
    "X_tfidf = tfidf_vectorizer.fit_transform(traningData['Processed_Text'])"
   ]
  },
  {
   "cell_type": "code",
   "execution_count": 4,
   "metadata": {},
   "outputs": [],
   "source": [
    "# ----------- Bigram Unigram method - cnovert words into matrix of word counts -----------\n",
    "count_vectorizer = CountVectorizer(ngram_range=(1, 2))  # shape = 1000, 181043 -- 181043 unique words and bigrams for all text\n",
    "X_count = count_vectorizer.fit_transform(traningData['Processed_Text'])"
   ]
  },
  {
   "cell_type": "code",
   "execution_count": 5,
   "metadata": {},
   "outputs": [
    {
     "name": "stdout",
     "output_type": "stream",
     "text": [
      "          0         1         2         3         4         5         6    \\\n",
      "0   -0.347496 -0.225865  0.495482 -0.237684  0.241387 -0.199721  0.160331   \n",
      "1   -0.227841 -0.169153  0.634625 -0.067046  0.577186 -0.130342 -0.216180   \n",
      "2   -0.282485 -0.095609  0.723575 -0.156782  0.335217 -0.211264 -0.102621   \n",
      "3   -0.380106 -0.178641  0.622564 -0.139455  0.335117 -0.161952  0.050442   \n",
      "4   -0.271386 -0.072624  0.566815 -0.136690  0.357096 -0.183400 -0.109878   \n",
      "..        ...       ...       ...       ...       ...       ...       ...   \n",
      "995 -0.231768 -0.059449  0.644640 -0.112059  0.192043 -0.153266  0.069223   \n",
      "996 -0.443378 -0.217632  0.542648 -0.068129  0.254270 -0.175015  0.061309   \n",
      "997 -0.548414 -0.054915  0.579065 -0.158832  0.335931 -0.251798  0.066812   \n",
      "998 -0.242989 -0.166043  0.661725 -0.073780  0.289443 -0.102024  0.106976   \n",
      "999 -0.438576  0.005106  0.537072 -0.126883  0.342277 -0.084894  0.090374   \n",
      "\n",
      "          7         8         9    ...       758       759       760  \\\n",
      "0    0.196733  0.051842 -0.293748  ... -0.054298 -0.096804  0.093237   \n",
      "1    0.140719 -0.143504 -0.099455  ... -0.050098 -0.151519  0.250291   \n",
      "2    0.238255  0.078187 -0.441156  ...  0.015587 -0.230139  0.176657   \n",
      "3    0.196555 -0.081426 -0.387866  ...  0.001011 -0.076996  0.180648   \n",
      "4    0.064208  0.164768 -0.272689  ... -0.134172 -0.130308  0.196624   \n",
      "..        ...       ...       ...  ...       ...       ...       ...   \n",
      "995  0.229369 -0.025150 -0.232564  ... -0.242424 -0.026026  0.103996   \n",
      "996  0.203194  0.093245 -0.376069  ... -0.138681 -0.211073  0.167607   \n",
      "997  0.227791  0.082861 -0.442156  ... -0.117982 -0.222860  0.222832   \n",
      "998  0.124835 -0.077476 -0.241149  ... -0.185603 -0.231435  0.189144   \n",
      "999  0.118727 -0.002678 -0.152448  ... -0.233184 -0.260754  0.109476   \n",
      "\n",
      "          761       762       763       764       765       766       767  \n",
      "0    0.115684 -0.069556 -0.005968 -0.629049 -0.102063 -0.313401  0.004305  \n",
      "1   -0.043363  0.018470 -0.224821 -0.444708 -0.137762 -0.030838 -0.038348  \n",
      "2    0.161701 -0.110441 -0.036061 -0.504426 -0.244811 -0.097441 -0.151561  \n",
      "3    0.169875 -0.002122 -0.206578 -0.591106 -0.113373 -0.053316  0.096965  \n",
      "4   -0.046970  0.032517 -0.152046 -0.527462 -0.223630  0.080397 -0.030134  \n",
      "..        ...       ...       ...       ...       ...       ...       ...  \n",
      "995 -0.018499  0.115663 -0.171157 -0.531747 -0.141201  0.057053  0.038523  \n",
      "996  0.204322 -0.030889 -0.167165 -0.637658  0.004805 -0.052862 -0.050941  \n",
      "997  0.163084 -0.110603 -0.082150 -0.536189 -0.073311 -0.114505  0.126359  \n",
      "998  0.150109 -0.057065  0.040260 -0.387766 -0.031774 -0.028472 -0.130532  \n",
      "999  0.189219 -0.168894 -0.124500 -0.581822 -0.077655  0.080193 -0.018939  \n",
      "\n",
      "[1000 rows x 768 columns]\n"
     ]
    }
   ],
   "source": [
    "# ----------- Bert method - convert words into vector -----------\n",
    "# load bert model and tokenizer\n",
    "device = torch.device(\"cpu\")\n",
    "bert_tokenizer = BertTokenizer.from_pretrained('bert-base-uncased')\n",
    "bert_model = BertModel.from_pretrained('bert-base-uncased').to(device)\n",
    "\n",
    "def get_bert_embedding(text):\n",
    "  # turn text into tokens\n",
    "  inputs = bert_tokenizer(text, return_tensors=\"pt\", truncation=True, padding=True, max_length=512).to(device)\n",
    "  with torch.no_grad():\n",
    "    outputs = bert_model(**inputs) # send tokens to get embeddings\n",
    "  return outputs.last_hidden_state.mean(dim=1).squeeze().cpu().numpy()\n",
    "\n",
    "X_bert_list = []\n",
    "for text in traningData['Processed_Text']:\n",
    "  # get bert embedding for each text\n",
    "  bert_embedding = get_bert_embedding(text)\n",
    "  X_bert_list.append(bert_embedding)\n",
    "\n",
    "X_bert = np.array(X_bert_list)\n",
    "print(pd.DataFrame(X_bert))\n"
   ]
  },
  {
   "cell_type": "code",
   "execution_count": 6,
   "metadata": {},
   "outputs": [
    {
     "name": "stdout",
     "output_type": "stream",
     "text": [
      "          0         1         2         3         4         5         6    \\\n",
      "0   -0.328350 -0.059226  0.160945 -0.202329 -0.325820  0.075109 -1.309120   \n",
      "1    0.067729 -0.300433 -0.239286  0.086089 -0.007095  0.179362 -1.015806   \n",
      "2   -0.316115 -0.132220 -0.091165 -0.132480 -0.001648  0.239643 -1.553225   \n",
      "3   -0.081513  0.152388  0.162050 -0.133638 -0.045471  0.160147 -0.883333   \n",
      "4   -0.001332 -0.011849 -0.311798  0.150192  0.028622  0.363968 -1.043680   \n",
      "..        ...       ...       ...       ...       ...       ...       ...   \n",
      "995  0.014867 -0.081154 -0.202077 -0.064668  0.052087  0.114049 -0.817795   \n",
      "996 -0.117127  0.213099 -0.148555  0.007056 -0.067760  0.060864 -1.935265   \n",
      "997 -0.210492 -0.142031 -0.058230 -0.118021  0.012026  0.227569 -1.451363   \n",
      "998 -0.046886  0.065305 -0.044070  0.058977 -0.176519  0.104198 -1.924588   \n",
      "999 -0.074413  0.213575 -0.009547  0.066872 -0.126054  0.014652 -1.451631   \n",
      "\n",
      "          7         8         9    ...       758       759       760  \\\n",
      "0    0.025555  0.553742 -0.153374  ... -0.261569  0.319721 -0.004270   \n",
      "1    0.342246  0.385246  0.215360  ... -0.452124 -0.029608  0.030150   \n",
      "2    0.135130  0.263302  0.301647  ... -0.339358  0.381596  0.048924   \n",
      "3    0.298044  0.487513  0.023681  ... -0.230770  0.246716  0.027488   \n",
      "4    0.255060  0.213542  0.265461  ... -0.538386 -0.168695  0.323853   \n",
      "..        ...       ...       ...  ...       ...       ...       ...   \n",
      "995  0.081965  0.696132 -0.044573  ... -0.118703  0.024902  0.148757   \n",
      "996  0.078917  0.456511 -0.076526  ... -0.274522  0.004802  0.001432   \n",
      "997 -0.070383  0.167669  0.055829  ... -0.322606  0.316130 -0.125282   \n",
      "998 -0.133026  0.543300 -0.096488  ... -0.419214  0.284548  0.013017   \n",
      "999  0.290614  0.537530 -0.207345  ... -0.358943  0.131143  0.088053   \n",
      "\n",
      "          761       762       763       764       765       766       767  \n",
      "0    0.144002  2.292659  0.042645  0.026395  0.074647  0.113640  0.114275  \n",
      "1    0.051672  2.139216  0.072847  0.017530 -0.025239  0.227199  0.332697  \n",
      "2    0.075723  2.234694  0.313606 -0.031369 -0.075863  0.351858  0.570799  \n",
      "3    0.071913  2.016397  0.320652 -0.127931 -0.200071  0.214551  0.257709  \n",
      "4    0.083995  2.077584  0.113017  0.057251 -0.209173  0.321475  0.316064  \n",
      "..        ...       ...       ...       ...       ...       ...       ...  \n",
      "995  0.198827  2.608279  0.057355  0.297874 -0.006150  0.426557  0.538496  \n",
      "996  0.237568  2.902501  0.109497  0.032746 -0.103820  0.184173  0.311657  \n",
      "997  0.106689  2.594655  0.106456  0.008373 -0.179662  0.240297  0.240630  \n",
      "998 -0.171871  2.827751  0.241997  0.099485  0.092299  0.286630  0.332782  \n",
      "999  0.056038  3.198462  0.276375  0.246638  0.053966  0.197954  0.348213  \n",
      "\n",
      "[1000 rows x 768 columns]\n"
     ]
    }
   ],
   "source": [
    "# ----------- GPT method - convert words into vector -----------\n",
    "from transformers import GPT2Tokenizer, GPT2Model\n",
    "\n",
    "tokenizer = GPT2Tokenizer.from_pretrained(\"gpt2\")\n",
    "model = GPT2Model.from_pretrained(\"gpt2\")\n",
    "\n",
    "tokenizer.pad_token = tokenizer.eos_token\n",
    "\n",
    "def get_gpt_embedding(text):\n",
    "  #turn text into tokens\n",
    "  inputs = tokenizer(text, return_tensors=\"pt\", padding=True, truncation=True, max_length=512).to(device)\n",
    "  with torch.no_grad():\n",
    "    outputs = model(**inputs) # turn input tokens to vectors\n",
    "  return outputs.last_hidden_state.mean(dim=1).squeeze().cpu().numpy()\n",
    "\n",
    "X_gpt_list = []\n",
    "for text in traningData['Processed_Text']:\n",
    "  # get gpt embedding for each text\n",
    "  gpt_embedding = get_gpt_embedding(text)\n",
    "  X_gpt_list.append(gpt_embedding)\n",
    "\n",
    "X_gpt = np.array(X_gpt_list)\n",
    "print(pd.DataFrame(X_gpt))"
   ]
  },
  {
   "cell_type": "markdown",
   "metadata": {},
   "source": [
    "Train NN on each of the features"
   ]
  },
  {
   "cell_type": "code",
   "execution_count": 7,
   "metadata": {},
   "outputs": [
    {
     "name": "stdout",
     "output_type": "stream",
     "text": [
      "    Feature Method  Training Accuracy Mean  Training Accuracy Std  \\\n",
      "0            TFIDF                     1.0                    0.0   \n",
      "1  CountVectorizer                     1.0                    0.0   \n",
      "2             BERT                     1.0                    0.0   \n",
      "3              GPT                     1.0                    0.0   \n",
      "\n",
      "   Validation Accuracy Mean  Validation Accuracy Std  \n",
      "0                     0.972                 0.012884  \n",
      "1                     0.963                 0.020640  \n",
      "2                     0.967                 0.004000  \n",
      "3                     0.962                 0.017205  \n"
     ]
    }
   ],
   "source": [
    "# smaller version\n",
    "\n",
    "from sklearn.model_selection import StratifiedKFold, cross_val_score\n",
    "from sklearn.neural_network import MLPClassifier\n",
    "import numpy as np\n",
    "\n",
    "features = {\n",
    "    \"TFIDF\": X_tfidf,\n",
    "    \"CountVectorizer\": X_count,\n",
    "    \"BERT\": X_bert,\n",
    "    \"GPT\": X_gpt\n",
    "}\n",
    "\n",
    "# initilaize model here\n",
    "nn_model = MLPClassifier(hidden_layer_sizes=(32, 32), max_iter=500)\n",
    "\n",
    "# store results here\n",
    "results = []\n",
    "for method, X in features.items():\n",
    "    # 5 fold cross validation\n",
    "    cross_val = StratifiedKFold(n_splits=5, shuffle=True)\n",
    "\n",
    "    expectedData = traningData['Category']\n",
    "\n",
    "    train_accuracies = []\n",
    "    val_accuracies = []\n",
    "    # for each split, get train and val accuracies\n",
    "    for train_index, val_index in cross_val.split(X, expectedData):\n",
    "        # split\n",
    "        X_train, X_val = X[train_index], X[val_index]\n",
    "        y_train, y_val = expectedData.iloc[train_index], expectedData.iloc[val_index]\n",
    "        \n",
    "        # fit\n",
    "        nn_model.fit(X_train, y_train)\n",
    "        \n",
    "        # get accuracies\n",
    "        train_accuracies.append(nn_model.score(X_train, y_train))\n",
    "        val_accuracies.append(nn_model.score(X_val, y_val))\n",
    "\n",
    "    train_mean = np.mean(train_accuracies)\n",
    "    train_std = np.std(train_accuracies)\n",
    "    val_mean = np.mean(val_accuracies)\n",
    "    val_std = np.std(val_accuracies)\n",
    "\n",
    "    results.append({\n",
    "        'Feature Method': method,\n",
    "        'Training Accuracy Mean': train_mean,\n",
    "        'Training Accuracy Std': train_std,\n",
    "        'Validation Accuracy Mean': val_mean,\n",
    "        'Validation Accuracy Std': val_std\n",
    "    })\n",
    "\n",
    "results_df = pd.DataFrame(results)\n",
    "print(results_df)"
   ]
  },
  {
   "cell_type": "markdown",
   "metadata": {},
   "source": [
    "Plot results"
   ]
  },
  {
   "cell_type": "code",
   "execution_count": 9,
   "metadata": {},
   "outputs": [
    {
     "name": "stdout",
     "output_type": "stream",
     "text": [
      "Requirement already satisfied: matplotlib in c:\\users\\nsano\\source\\repos\\cse572hw2\\cse572\\lib\\site-packages (3.10.1)\n",
      "Requirement already satisfied: contourpy>=1.0.1 in c:\\users\\nsano\\source\\repos\\cse572hw2\\cse572\\lib\\site-packages (from matplotlib) (1.3.1)\n",
      "Requirement already satisfied: cycler>=0.10 in c:\\users\\nsano\\source\\repos\\cse572hw2\\cse572\\lib\\site-packages (from matplotlib) (0.12.1)\n",
      "Requirement already satisfied: fonttools>=4.22.0 in c:\\users\\nsano\\source\\repos\\cse572hw2\\cse572\\lib\\site-packages (from matplotlib) (4.56.0)\n",
      "Requirement already satisfied: kiwisolver>=1.3.1 in c:\\users\\nsano\\source\\repos\\cse572hw2\\cse572\\lib\\site-packages (from matplotlib) (1.4.8)\n",
      "Requirement already satisfied: numpy>=1.23 in c:\\users\\nsano\\source\\repos\\cse572hw2\\cse572\\lib\\site-packages (from matplotlib) (2.2.4)\n",
      "Requirement already satisfied: packaging>=20.0 in c:\\users\\nsano\\source\\repos\\cse572hw2\\cse572\\lib\\site-packages (from matplotlib) (24.2)\n",
      "Requirement already satisfied: pillow>=8 in c:\\users\\nsano\\source\\repos\\cse572hw2\\cse572\\lib\\site-packages (from matplotlib) (11.1.0)\n",
      "Requirement already satisfied: pyparsing>=2.3.1 in c:\\users\\nsano\\source\\repos\\cse572hw2\\cse572\\lib\\site-packages (from matplotlib) (3.2.1)\n",
      "Requirement already satisfied: python-dateutil>=2.7 in c:\\users\\nsano\\source\\repos\\cse572hw2\\cse572\\lib\\site-packages (from matplotlib) (2.9.0.post0)\n",
      "Requirement already satisfied: six>=1.5 in c:\\users\\nsano\\source\\repos\\cse572hw2\\cse572\\lib\\site-packages (from python-dateutil>=2.7->matplotlib) (1.17.0)\n",
      "Note: you may need to restart the kernel to use updated packages.\n"
     ]
    },
    {
     "name": "stderr",
     "output_type": "stream",
     "text": [
      "\n",
      "[notice] A new release of pip is available: 24.3.1 -> 25.0.1\n",
      "[notice] To update, run: python.exe -m pip install --upgrade pip\n"
     ]
    }
   ],
   "source": [
    "%pip install matplotlib"
   ]
  },
  {
   "cell_type": "code",
   "execution_count": 9,
   "metadata": {},
   "outputs": [
    {
     "data": {
      "image/png": "[encoded data removed]",
      "text/plain": [
       "<Figure size 640x480 with 1 Axes>"
      ]
     },
     "metadata": {},
     "output_type": "display_data"
    },
    {
     "data": {
      "image/png": "[encoded data removed]",
      "text/plain": [
       "<Figure size 640x480 with 1 Axes>"
      ]
     },
     "metadata": {},
     "output_type": "display_data"
    }
   ],
   "source": [
    "# plotting smaller version\n",
    "import matplotlib.pyplot as plt\n",
    "\n",
    "# Prepare data for plotting\n",
    "methods = results_df[\"Feature Method\"]\n",
    "training_accuracies = results_df[\"Training Accuracy Mean\"]\n",
    "validation_accuracies = results_df[\"Validation Accuracy Mean\"]\n",
    "training_errors = 1 - training_accuracies\n",
    "validation_errors = 1 - validation_accuracies\n",
    "\n",
    "# Plotting accuracy\n",
    "x = np.arange(len(methods))\n",
    "width = 0.35  # Bar width\n",
    "\n",
    "fig, ax = plt.subplots()\n",
    "rects1 = ax.bar(x - width/2, training_accuracies, width, label='Training Accuracy')\n",
    "rects2 = ax.bar(x + width/2, validation_accuracies, width, label='Validation Accuracy')\n",
    "\n",
    "ax.set_ylabel('Accuracy')\n",
    "ax.set_title('Training and Validation Accuracy by Feature Method')\n",
    "ax.set_xticks(x)\n",
    "ax.set_xticklabels(methods)\n",
    "ax.legend()\n",
    "\n",
    "# Plotting error\n",
    "fig, ax2 = plt.subplots()\n",
    "rects3 = ax2.bar(x - width/2, training_errors, width, label='Training Error', color='red')\n",
    "rects4 = ax2.bar(x + width/2, validation_errors, width, label='Validation Error', color='orange')\n",
    "\n",
    "ax2.set_ylabel('Error')\n",
    "ax2.set_title('Training and Validation Error by Feature Method')\n",
    "ax2.set_xticks(x)\n",
    "ax2.set_xticklabels(methods)\n",
    "ax2.legend()\n",
    "\n",
    "plt.show()"
   ]
  },
  {
   "cell_type": "markdown",
   "metadata": {},
   "source": [
    "Looks like CountVectorizer did the best with the least error percentage"
   ]
  },
  {
   "cell_type": "markdown",
   "metadata": {},
   "source": [
    "Question 2 - Learning rates\n",
    "I used 32x32 hidden layer size, a larger one is not needed as the results are not too different and it takes less computation time\n",
    "max-iteration of 500 for convergence rate\n",
    "Learning rates of the ones listed in the instructions"
   ]
  },
  {
   "cell_type": "code",
   "execution_count": null,
   "metadata": {},
   "outputs": [],
   "source": [
    "# Learning rate\n",
    "\n",
    "X = X_tfidf  # best feature method from q1\n",
    "y = traningData['Category']\n",
    "\n",
    "learning_rates = [0.0001, 0.0003, 0.001, 0.003, 0.01, 0.03, 0.1]\n",
    "\n",
    "cross_val = StratifiedKFold(n_splits=5, shuffle=True)\n",
    "\n",
    "# store results here\n",
    "lr_results = []\n",
    "for lr in learning_rates:\n",
    "    # 5 fold cross validation\n",
    "    train_accuracies = []\n",
    "    val_accuracies = []\n",
    "    \n",
    "    # for each split, get train and val accuracies\n",
    "    for train_index, val_index in cross_val.split(X, expectedData):\n",
    "        # split\n",
    "        X_train, X_val = X[train_index], X[val_index]\n",
    "        y_train, y_val = expectedData.iloc[train_index], expectedData.iloc[val_index]\n",
    "\n",
    "        # initialize model here with learning rate\n",
    "        nn_model = MLPClassifier(hidden_layer_sizes=(32, 32), max_iter=500, learning_rate_init=lr)\n",
    "        \n",
    "        # fit\n",
    "        nn_model.fit(X_train, y_train)\n",
    "        \n",
    "        # get accuracies\n",
    "        train_accuracies.append(nn_model.score(X_train, y_train))\n",
    "        val_accuracies.append(nn_model.score(X_val, y_val))\n",
    "\n",
    "    train_mean = np.mean(train_accuracies)\n",
    "    train_std = np.std(train_accuracies)\n",
    "    val_mean = np.mean(val_accuracies)\n",
    "    val_std = np.std(val_accuracies)\n",
    "\n",
    "    lr_results.append({\n",
    "        'Learning Rate': lr,\n",
    "        'Training Accuracy Mean': train_mean,\n",
    "        'Training Accuracy Std': train_std,\n",
    "        'Validation Accuracy Mean': val_mean,\n",
    "        'Validation Accuracy Std': val_std\n",
    "    })\n",
    "\n",
    "lr_results_df = pd.DataFrame(lr_results)\n",
    "print(lr_results_df)"
   ]
  },
  {
   "cell_type": "code",
   "execution_count": null,
   "metadata": {},
   "outputs": [
    {
     "data": {
      "image/png": "[encoded data removed]",
      "text/plain": [
       "<Figure size 1000x600 with 1 Axes>"
      ]
     },
     "metadata": {},
     "output_type": "display_data"
    }
   ],
   "source": [
    "plt.figure(figsize=(10, 6))\n",
    "\n",
    "# Training and validation acc\n",
    "plt.plot(lr_results_df['Learning Rate'], lr_results_df['Training Accuracy Mean'], label='Training Accuracy', marker='o')\n",
    "plt.plot(lr_results_df['Learning Rate'], lr_results_df['Validation Accuracy Mean'], label='Validation Accuracy', marker='x')\n",
    "\n",
    "# labels and title\n",
    "plt.xlabel('Learning Rate')\n",
    "plt.ylabel('Accuracy')\n",
    "plt.title('Training & Validation Accuracy vs Learning Rate')\n",
    "plt.legend()\n",
    "\n",
    "plt.grid(True)\n",
    "plt.show()"
   ]
  },
  {
   "cell_type": "markdown",
   "metadata": {},
   "source": [
    "Part 3 - Optimizers"
   ]
  },
  {
   "cell_type": "code",
   "execution_count": null,
   "metadata": {},
   "outputs": [],
   "source": [
    "# Optimizers\n",
    "\n",
    "X = X_count  # best feature method from q1\n",
    "y = traningData['Category']\n",
    "\n",
    "cross_val = StratifiedKFold(n_splits=5, shuffle=True)\n",
    "\n",
    "\n",
    "# list of optimzers to test\n",
    "optimizers = ['adam', 'sgd', 'lbfgs']\n",
    "\n",
    "\n",
    "optimizer_results = []\n",
    "for optimizer in optimizers:\n",
    "    # 5 fold cross validation\n",
    "    train_accuracies = []\n",
    "    val_accuracies = []\n",
    "    \n",
    "    # for each split, get train and val accuracies\n",
    "    for train_index, val_index in cross_val.split(X, expectedData):\n",
    "        # split\n",
    "        X_train, X_val = X[train_index], X[val_index]\n",
    "        y_train, y_val = expectedData.iloc[train_index], expectedData.iloc[val_index]\n",
    "\n",
    "        # initialize model here with learning rate\n",
    "        nn_model = MLPClassifier(hidden_layer_sizes=(32, 32), max_iter=500, solver=optimizer)\n",
    "        \n",
    "        # fit\n",
    "        nn_model.fit(X_train, y_train)\n",
    "        \n",
    "        # get accuracies\n",
    "        train_accuracies.append(nn_model.score(X_train, y_train))\n",
    "        val_accuracies.append(nn_model.score(X_val, y_val))\n",
    "\n",
    "    train_mean = np.mean(train_accuracies)\n",
    "    train_std = np.std(train_accuracies)\n",
    "    val_mean = np.mean(val_accuracies)\n",
    "    val_std = np.std(val_accuracies)\n",
    "\n",
    "    results.append({\n",
    "        'Optimizer': optimizer,\n",
    "        'Training Accuracy Mean': train_mean,\n",
    "        'Training Accuracy Std': train_std,\n",
    "        'Validation Accuracy Mean': val_mean,\n",
    "        'Validation Accuracy Std': val_std\n",
    "    })\n",
    "\n",
    "optimizer_results_df = pd.DataFrame(optimizer_results)\n",
    "print(optimizer_results_df)"
   ]
  },
  {
   "cell_type": "code",
   "execution_count": null,
   "metadata": {},
   "outputs": [],
   "source": [
    "plt.figure(figsize=(10, 6))\n",
    "\n",
    "# Training and validation acc\n",
    "plt.plot(optimizer_results_df['Optimizer'], optimizer_results_df['Training Accuracy Mean'], label='Training Accuracy', marker='o')\n",
    "plt.plot(optimizer_results_df['Optimizer'], optimizer_results_df['Validation Accuracy Mean'], label='Validation Accuracy', marker='x')\n",
    "\n",
    "# labels and title\n",
    "plt.xlabel('Optimizer')\n",
    "plt.ylabel('Accuracy')\n",
    "plt.title('Training & Validation Accuracy vs Optimizer')\n",
    "plt.legend()\n",
    "\n",
    "plt.grid(True)\n",
    "plt.show()"
   ]
  }
 ],
 "metadata": {
  "kernelspec": {
   "display_name": "cse572",
   "language": "python",
   "name": "python3"
  },
  "language_info": {
   "codemirror_mode": {
    "name": "ipython",
    "version": 3
   },
   "file_extension": ".py",
   "mimetype": "text/x-python",
   "name": "python",
   "nbconvert_exporter": "python",
   "pygments_lexer": "ipython3",
   "version": "3.13.2"
  }
 },
 "nbformat": 4,
 "nbformat_minor": 2
}
