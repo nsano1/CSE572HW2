{
 "cells": [
  {
   "cell_type": "markdown",
   "metadata": {},
   "source": [
    "---------------------------------------------------------------\n",
    "Question 1 - Preprocessing and testing on different feature extraction methods\n",
    "---------------------------------------------------------------"
   ]
  },
  {
   "cell_type": "markdown",
   "metadata": {},
   "source": [
    "In case need to download pandas and nltk and numpy"
   ]
  },
  {
   "cell_type": "code",
   "execution_count": null,
   "metadata": {},
   "outputs": [],
   "source": [
    "%pip install nltk\n",
    "%pip install pandas\n",
    "%pip install numpy\n",
    "%pip install scikit-learn\n",
    "%pip install transformers\n",
    "%pip install torch\n",
    "%pip install matplotlib"
   ]
  },
  {
   "cell_type": "markdown",
   "metadata": {},
   "source": [
    "Initial preprocessing - used in HW 0 and 1"
   ]
  },
  {
   "cell_type": "code",
   "execution_count": 93,
   "metadata": {},
   "outputs": [
    {
     "name": "stderr",
     "output_type": "stream",
     "text": [
      "[nltk_data] Downloading package punkt_tab to\n",
      "[nltk_data]     C:\\Users\\nsano\\AppData\\Roaming\\nltk_data...\n",
      "[nltk_data]   Package punkt_tab is already up-to-date!\n",
      "[nltk_data] Downloading package stopwords to\n",
      "[nltk_data]     C:\\Users\\nsano\\AppData\\Roaming\\nltk_data...\n",
      "[nltk_data]   Package stopwords is already up-to-date!\n"
     ]
    },
    {
     "data": {
      "text/html": [
       "<div>\n",
       "<style scoped>\n",
       "    .dataframe tbody tr th:only-of-type {\n",
       "        vertical-align: middle;\n",
       "    }\n",
       "\n",
       "    .dataframe tbody tr th {\n",
       "        vertical-align: top;\n",
       "    }\n",
       "\n",
       "    .dataframe thead th {\n",
       "        text-align: right;\n",
       "    }\n",
       "</style>\n",
       "<table border=\"1\" class=\"dataframe\">\n",
       "  <thead>\n",
       "    <tr style=\"text-align: right;\">\n",
       "      <th></th>\n",
       "      <th>ArticleId</th>\n",
       "      <th>Text</th>\n",
       "      <th>Category</th>\n",
       "      <th>Processed_Text</th>\n",
       "    </tr>\n",
       "  </thead>\n",
       "  <tbody>\n",
       "    <tr>\n",
       "      <th>0</th>\n",
       "      <td>1429</td>\n",
       "      <td>sfa awaits report over mikoliunas the scottish...</td>\n",
       "      <td>sport</td>\n",
       "      <td>sfa await report mikoliuna scottish footbal as...</td>\n",
       "    </tr>\n",
       "    <tr>\n",
       "      <th>1</th>\n",
       "      <td>1896</td>\n",
       "      <td>parmalat to return to stockmarket parmalat  th...</td>\n",
       "      <td>business</td>\n",
       "      <td>parmalat return stockmarket parmalat italian d...</td>\n",
       "    </tr>\n",
       "    <tr>\n",
       "      <th>2</th>\n",
       "      <td>1633</td>\n",
       "      <td>edu blasts arsenal arsenal s brazilian midfiel...</td>\n",
       "      <td>sport</td>\n",
       "      <td>edu blast arsen arsen brazilian midfield edu h...</td>\n",
       "    </tr>\n",
       "    <tr>\n",
       "      <th>3</th>\n",
       "      <td>2178</td>\n",
       "      <td>henman decides to quit davis cup tim henman ha...</td>\n",
       "      <td>sport</td>\n",
       "      <td>henman decid quit davi cup tim henman retir gr...</td>\n",
       "    </tr>\n",
       "    <tr>\n",
       "      <th>4</th>\n",
       "      <td>194</td>\n",
       "      <td>french suitor holds lse meeting european stock...</td>\n",
       "      <td>business</td>\n",
       "      <td>french suitor hold lse meet european stock mar...</td>\n",
       "    </tr>\n",
       "    <tr>\n",
       "      <th>...</th>\n",
       "      <td>...</td>\n",
       "      <td>...</td>\n",
       "      <td>...</td>\n",
       "      <td>...</td>\n",
       "    </tr>\n",
       "    <tr>\n",
       "      <th>995</th>\n",
       "      <td>1250</td>\n",
       "      <td>blair  damaged  by blunkett row a majority of ...</td>\n",
       "      <td>politics</td>\n",
       "      <td>blair damag blunkett row major voter 68 believ...</td>\n",
       "    </tr>\n",
       "    <tr>\n",
       "      <th>996</th>\n",
       "      <td>1639</td>\n",
       "      <td>a november to remember last saturday  one news...</td>\n",
       "      <td>sport</td>\n",
       "      <td>novemb rememb last saturday one newspap procla...</td>\n",
       "    </tr>\n",
       "    <tr>\n",
       "      <th>997</th>\n",
       "      <td>916</td>\n",
       "      <td>highbury tunnel players in clear the football ...</td>\n",
       "      <td>sport</td>\n",
       "      <td>highburi tunnel player clear footbal associ sa...</td>\n",
       "    </tr>\n",
       "    <tr>\n",
       "      <th>998</th>\n",
       "      <td>2217</td>\n",
       "      <td>top stars join us tsunami tv show brad pitt  r...</td>\n",
       "      <td>entertainment</td>\n",
       "      <td>top star join us tsunami tv show brad pitt rob...</td>\n",
       "    </tr>\n",
       "    <tr>\n",
       "      <th>999</th>\n",
       "      <td>902</td>\n",
       "      <td>eastwood s baby scoops top oscars clint eastwo...</td>\n",
       "      <td>entertainment</td>\n",
       "      <td>eastwood babi scoop top oscar clint eastwood m...</td>\n",
       "    </tr>\n",
       "  </tbody>\n",
       "</table>\n",
       "<p>1000 rows × 4 columns</p>\n",
       "</div>"
      ],
      "text/plain": [
       "     ArticleId                                               Text  \\\n",
       "0         1429  sfa awaits report over mikoliunas the scottish...   \n",
       "1         1896  parmalat to return to stockmarket parmalat  th...   \n",
       "2         1633  edu blasts arsenal arsenal s brazilian midfiel...   \n",
       "3         2178  henman decides to quit davis cup tim henman ha...   \n",
       "4          194  french suitor holds lse meeting european stock...   \n",
       "..         ...                                                ...   \n",
       "995       1250  blair  damaged  by blunkett row a majority of ...   \n",
       "996       1639  a november to remember last saturday  one news...   \n",
       "997        916  highbury tunnel players in clear the football ...   \n",
       "998       2217  top stars join us tsunami tv show brad pitt  r...   \n",
       "999        902  eastwood s baby scoops top oscars clint eastwo...   \n",
       "\n",
       "          Category                                     Processed_Text  \n",
       "0            sport  sfa await report mikoliuna scottish footbal as...  \n",
       "1         business  parmalat return stockmarket parmalat italian d...  \n",
       "2            sport  edu blast arsen arsen brazilian midfield edu h...  \n",
       "3            sport  henman decid quit davi cup tim henman retir gr...  \n",
       "4         business  french suitor hold lse meet european stock mar...  \n",
       "..             ...                                                ...  \n",
       "995       politics  blair damag blunkett row major voter 68 believ...  \n",
       "996          sport  novemb rememb last saturday one newspap procla...  \n",
       "997          sport  highburi tunnel player clear footbal associ sa...  \n",
       "998  entertainment  top star join us tsunami tv show brad pitt rob...  \n",
       "999  entertainment  eastwood babi scoop top oscar clint eastwood m...  \n",
       "\n",
       "[1000 rows x 4 columns]"
      ]
     },
     "execution_count": 93,
     "metadata": {},
     "output_type": "execute_result"
    }
   ],
   "source": [
    "# ----- PRE PROCESSING -----\n",
    "import string\n",
    "import nltk\n",
    "from nltk.corpus import stopwords\n",
    "from nltk.stem.porter import *\n",
    "import pandas as pd\n",
    "import numpy as np\n",
    "from sklearn.feature_extraction.text import CountVectorizer, TfidfVectorizer\n",
    "from transformers import BertTokenizer, BertModel\n",
    "import torch\n",
    "from sklearn.model_selection import StratifiedKFold, cross_val_score\n",
    "from sklearn.neural_network import MLPClassifier\n",
    "import matplotlib.pyplot as plt\n",
    "from transformers import GPT2Tokenizer, GPT2Model\n",
    "from sklearn.decomposition import TruncatedSVD\n",
    "\n",
    "nltk.download('punkt_tab')\n",
    "nltk.download('stopwords')\n",
    "\n",
    "# stemming tool from nltk\n",
    "stemmer = PorterStemmer()\n",
    "# a mapping dictionary that help remove punctuations\n",
    "remove_punctuation_map = dict((ord(char), None) for char in string.punctuation)\n",
    "def get_tokens(text):\n",
    "  # turn document into lowercase\n",
    "  lowers = text.lower()\n",
    "  # remove punctuations\n",
    "  no_punctuation = lowers.translate(remove_punctuation_map)\n",
    "  # tokenize document\n",
    "  tokens = nltk.word_tokenize(no_punctuation)\n",
    "  # remove stop words\n",
    "  filtered = [w for w in tokens if not w in stopwords.words('english')]\n",
    "  # stemming process\n",
    "  stemmed = []\n",
    "  for item in filtered:\n",
    "    stemmed.append(stemmer.stem(item))\n",
    "  # final unigrams\n",
    "  return stemmed\n",
    "\n",
    "traningData = pd.read_csv('24_train_3.csv', header='infer')\n",
    "# Use HW 0  token filtering step\n",
    "traningData['Processed_Text'] = traningData['Text'].apply(lambda x: ' '.join(get_tokens(str(x))))\n",
    "traningData"
   ]
  },
  {
   "cell_type": "markdown",
   "metadata": {},
   "source": [
    "\n",
    "Question 1 - Feature extraction methods - 4 methods, TFIDF, CountVectorizer, BERT, GPT\n",
    "---------------------------------------------------------------"
   ]
  },
  {
   "cell_type": "markdown",
   "metadata": {},
   "source": [
    "TFIDF method"
   ]
  },
  {
   "cell_type": "code",
   "execution_count": 94,
   "metadata": {},
   "outputs": [],
   "source": [
    "# ----------- TfidfVectorizer method - convert to number - use TFIDF value -----------\n",
    "tfidf_vectorizer = TfidfVectorizer() # like hw 1\n",
    "X_tfidf = tfidf_vectorizer.fit_transform(traningData['Processed_Text'])"
   ]
  },
  {
   "cell_type": "markdown",
   "metadata": {},
   "source": [
    "Bigram and Unigram method"
   ]
  },
  {
   "cell_type": "code",
   "execution_count": 95,
   "metadata": {},
   "outputs": [],
   "source": [
    "# ----------- Bigram Unigram method - cnovert words into matrix of word counts -----------\n",
    "count_vectorizer = CountVectorizer(ngram_range=(1, 2))  # shape = 1000, 181043 -- 181043 unique words and bigrams for all text\n",
    "X_count = count_vectorizer.fit_transform(traningData['Processed_Text'])"
   ]
  },
  {
   "cell_type": "markdown",
   "metadata": {},
   "source": [
    "BERT Embedding method"
   ]
  },
  {
   "cell_type": "code",
   "execution_count": 96,
   "metadata": {},
   "outputs": [],
   "source": [
    "# ----------- Bert method - convert words into vector -----------\n",
    "# load bert model and tokenizer\n",
    "device = torch.device(\"cpu\")\n",
    "bert_tokenizer = BertTokenizer.from_pretrained('bert-base-uncased')\n",
    "bert_model = BertModel.from_pretrained('bert-base-uncased').to(device)\n",
    "\n",
    "def get_bert_embedding(text):\n",
    "  # turn text into tokens\n",
    "  inputs = bert_tokenizer(text, return_tensors=\"pt\", truncation=True, padding=True, max_length=512).to(device)\n",
    "  with torch.no_grad():\n",
    "    outputs = bert_model(**inputs) # send tokens to get embeddings\n",
    "  return outputs.last_hidden_state.mean(dim=1).squeeze().cpu().numpy()\n",
    "\n",
    "X_bert_list = []\n",
    "for text in traningData['Processed_Text']:\n",
    "  # get bert embedding for each text\n",
    "  bert_embedding = get_bert_embedding(text)\n",
    "  X_bert_list.append(bert_embedding)\n",
    "\n",
    "X_bert = np.array(X_bert_list)"
   ]
  },
  {
   "cell_type": "markdown",
   "metadata": {},
   "source": [
    "GPT2 Embedding method"
   ]
  },
  {
   "cell_type": "code",
   "execution_count": 97,
   "metadata": {},
   "outputs": [],
   "source": [
    "# ----------- GPT method - convert words into vector -----------\n",
    "gpt_tokenizer = GPT2Tokenizer.from_pretrained(\"gpt2\")\n",
    "gpt_embedding_model = GPT2Model.from_pretrained(\"gpt2\")\n",
    "\n",
    "gpt_tokenizer.pad_token = gpt_tokenizer.eos_token\n",
    "\n",
    "def get_gpt_embedding(text):\n",
    "  #turn text into tokens\n",
    "  inputs = gpt_tokenizer(text, return_tensors=\"pt\", padding=True, truncation=True, max_length=512).to(device)\n",
    "  with torch.no_grad():\n",
    "    outputs = gpt_embedding_model(**inputs) # turn input tokens to vectors\n",
    "  return outputs.last_hidden_state.mean(dim=1).squeeze().cpu().numpy()\n",
    "\n",
    "X_gpt_list = []\n",
    "for text in traningData['Processed_Text']:\n",
    "  # get gpt embedding for each text\n",
    "  gpt_embedding = get_gpt_embedding(text)\n",
    "  X_gpt_list.append(gpt_embedding)\n",
    "\n",
    "X_gpt = np.array(X_gpt_list)"
   ]
  },
  {
   "cell_type": "markdown",
   "metadata": {},
   "source": [
    "LSA mthod - uses TFIDF matrix"
   ]
  },
  {
   "cell_type": "code",
   "execution_count": 98,
   "metadata": {},
   "outputs": [],
   "source": [
    "# ----------- LSA - convert words into vector -----------\n",
    "# need to use tfidf, use TruncatedSVD\n",
    "lsa_model = TruncatedSVD(n_components=100)\n",
    "X_lsa = lsa_model.fit_transform(X_tfidf)"
   ]
  },
  {
   "cell_type": "markdown",
   "metadata": {},
   "source": [
    "Question 1 - Train NN on each of the features\n",
    "---------------------------------------------------------------"
   ]
  },
  {
   "cell_type": "code",
   "execution_count": 99,
   "metadata": {},
   "outputs": [
    {
     "name": "stdout",
     "output_type": "stream",
     "text": [
      "| Feature Method | Training Accuracy Mean | Training STDs | Validation Accuracy | Validation STDs |\n",
      "|----------------|------------------------|---------------|---------------------|-----------------|\n",
      "| TFIDF              | 1.0000                 | 0.0000        | 0.9750              | 0.0105          |\n",
      "| CountVectorizer    | 1.0000                 | 0.0000        | 0.9670              | 0.0093          |\n",
      "| BERT               | 1.0000                 | 0.0000        | 0.9660              | 0.0073          |\n",
      "| GPT                | 1.0000                 | 0.0000        | 0.9630              | 0.0103          |\n",
      "| LSA                | 1.0000                 | 0.0000        | 0.9580              | 0.0093          |\n"
     ]
    }
   ],
   "source": [
    "# Question 1 Part 1 - Accuracy of each feature method\n",
    "\n",
    "features = {\n",
    "    \"TFIDF\": X_tfidf,\n",
    "    \"CountVectorizer\": X_count,\n",
    "    \"BERT\": X_bert,\n",
    "    \"GPT\": X_gpt,\n",
    "    \"LSA\": X_lsa,\n",
    "}\n",
    "\n",
    "# initilaize model here\n",
    "feature_nn_model = MLPClassifier(hidden_layer_sizes=(32, 32), max_iter=500)\n",
    "\n",
    "# store results here\n",
    "feature_results = []\n",
    "for method, X in features.items():\n",
    "    # 5 fold cross validation\n",
    "    cross_val = StratifiedKFold(n_splits=5, shuffle=True)\n",
    "\n",
    "    expectedData = traningData['Category']\n",
    "    train_accuracies = []\n",
    "    val_accuracies = []\n",
    "    # for each split, get train and val accuracies\n",
    "    for train_index, val_index in cross_val.split(X, expectedData):\n",
    "        # split\n",
    "        X_train, X_val = X[train_index], X[val_index]\n",
    "        y_train, y_val = expectedData.iloc[train_index], expectedData.iloc[val_index]\n",
    "        \n",
    "        # fit\n",
    "        feature_nn_model.fit(X_train, y_train)\n",
    "        \n",
    "        # get accuracies\n",
    "        train_accuracies.append(feature_nn_model.score(X_train, y_train))\n",
    "        val_accuracies.append(feature_nn_model.score(X_val, y_val))\n",
    "\n",
    "    train_mean = np.mean(train_accuracies)\n",
    "    train_std = np.std(train_accuracies)\n",
    "    val_mean = np.mean(val_accuracies)\n",
    "    val_std = np.std(val_accuracies)\n",
    "\n",
    "    feature_results.append({\n",
    "        'Feature Method': method,\n",
    "        'Training Accuracy Mean': train_mean,\n",
    "        'Training Accuracy Std': train_std,\n",
    "        'Validation Accuracy Mean': val_mean,\n",
    "        'Validation Accuracy Std': val_std\n",
    "    })\n",
    "\n",
    "feature_results_df = pd.DataFrame(feature_results)\n",
    "\n",
    "print(\"| Feature Method | Training Accuracy Mean | Training STDs | Validation Accuracy | Validation STDs |\")\n",
    "print(\"|----------------|------------------------|---------------|---------------------|-----------------|\")\n",
    "for i, value in enumerate(feature_results_df['Feature Method']):\n",
    "    training_means = feature_results_df['Training Accuracy Mean']\n",
    "    training_stds = feature_results_df['Training Accuracy Std']\n",
    "    validation_means = feature_results_df['Validation Accuracy Mean']\n",
    "    validation_stds = feature_results_df['Validation Accuracy Std']\n",
    "    print(f\"| {value:<18} | {training_means[i]:<22.4f} | {training_stds[i]:<13.4f} | {validation_means[i]:<19.4f} | {validation_stds[i]:<15.4f} |\")\n"
   ]
  },
  {
   "cell_type": "markdown",
   "metadata": {},
   "source": [
    "Plot results"
   ]
  },
  {
   "cell_type": "code",
   "execution_count": 100,
   "metadata": {},
   "outputs": [
    {
     "data": {
      "image/png": "[encoded data removed]",
      "text/plain": [
       "<Figure size 640x480 with 1 Axes>"
      ]
     },
     "metadata": {},
     "output_type": "display_data"
    },
    {
     "data": {
      "image/png": "[encoded data removed]",
      "text/plain": [
       "<Figure size 640x480 with 1 Axes>"
      ]
     },
     "metadata": {},
     "output_type": "display_data"
    }
   ],
   "source": [
    "# plotting function for both train and val accuracy and their error\n",
    "def plot(results_df, variable_name):\n",
    "    variable = results_df[variable_name]\n",
    "    training_accuracies = results_df[\"Training Accuracy Mean\"]\n",
    "    validation_accuracies = results_df[\"Validation Accuracy Mean\"]\n",
    "    training_errors = 1 - training_accuracies\n",
    "    validation_errors = 1 - validation_accuracies\n",
    "\n",
    "    # Plotting accuracy\n",
    "    x = np.arange(len(variable))\n",
    "    width = 0.35\n",
    "\n",
    "    figure, plot_acc = plt.subplots()\n",
    "\n",
    "    plot_acc.bar(x - width/2, training_accuracies, width, label='Training Accuracy')\n",
    "    plot_acc.bar(x + width/2, validation_accuracies, width, label='Validation Accuracy')\n",
    "\n",
    "    plot_acc.set_ylabel('Accuracy')\n",
    "    plot_acc.set_title(f'Training and Validation Accuracy by {variable_name}')\n",
    "    plot_acc.set_xticks(x)\n",
    "    plot_acc.set_xticklabels(variable)\n",
    "    plot_acc.set_xlabel(variable_name)\n",
    "    plot_acc.legend()\n",
    "\n",
    "    # Plotting error\n",
    "    figure, plot_err = plt.subplots()\n",
    "\n",
    "    plot_err.bar(x - width/2, training_errors, width, label='Training Error', color='red')\n",
    "    plot_err.bar(x + width/2, validation_errors, width, label='Validation Error', color='orange')\n",
    "\n",
    "    plot_err.set_ylabel('Error')\n",
    "    plot_err.set_title(f'Training and Validation Error by {variable_name}')\n",
    "    plot_err.set_xticks(x)\n",
    "    plot_err.set_xticklabels(variable)\n",
    "    plot_err.set_xlabel(variable_name)\n",
    "    plot_err.legend()\n",
    "\n",
    "    plt.show()\n",
    "plot(feature_results_df, 'Feature Method')"
   ]
  },
  {
   "cell_type": "markdown",
   "metadata": {},
   "source": [
    "After multiple runs, BERT and TFIDF are more consistently the ones with the least error rate. CountVectorizer is not consistent. Will move forward with TFIDF since it had the least"
   ]
  },
  {
   "cell_type": "markdown",
   "metadata": {},
   "source": [
    "---------------------------------------------------------------\n",
    "Question 2 - Testing on different learning rates\n",
    "---------------------------------------------------------------"
   ]
  },
  {
   "cell_type": "markdown",
   "metadata": {},
   "source": [
    "Question 2 - Learning rates\n",
    "I used 32x32 hidden layer size, a larger one is not needed as the results are not too different and it takes less computation time\n",
    "max-iteration of 500 for convergence rate\n",
    "Learning rates of the ones listed in the instructions\n",
    "Using TFIDF embedding since it performed the most consistently"
   ]
  },
  {
   "cell_type": "code",
   "execution_count": 101,
   "metadata": {},
   "outputs": [
    {
     "name": "stdout",
     "output_type": "stream",
     "text": [
      "| Learning Rate | Training Accuracy Mean | Training STDs | Validation Accuracy | Validation STDs |\n",
      "|---------------|------------------------|---------------|---------------------|-----------------|\n",
      "| 0.0001        | 1.0000                 | 0.0000        | 0.9680              | 0.0178          |\n",
      "| 0.0003        | 1.0000                 | 0.0000        | 0.9720              | 0.0040          |\n",
      "| 0.001         | 1.0000                 | 0.0000        | 0.9670              | 0.0133          |\n",
      "| 0.003         | 1.0000                 | 0.0000        | 0.9700              | 0.0118          |\n",
      "| 0.01          | 1.0000                 | 0.0000        | 0.9710              | 0.0139          |\n",
      "| 0.03          | 1.0000                 | 0.0000        | 0.9400              | 0.0184          |\n",
      "| 0.1           | 1.0000                 | 0.0000        | 0.9370              | 0.0172          |\n"
     ]
    },
    {
     "data": {
      "image/png": "[encoded data removed]",
      "text/plain": [
       "<Figure size 640x480 with 1 Axes>"
      ]
     },
     "metadata": {},
     "output_type": "display_data"
    }
   ],
   "source": [
    "# Learning rate\n",
    "\n",
    "X = X_tfidf  # best feature method from q1\n",
    "y = traningData['Category']\n",
    "\n",
    "learning_rates = [0.0001, 0.0003, 0.001, 0.003, 0.01, 0.03, 0.1]\n",
    "\n",
    "lr_cross_val = StratifiedKFold(n_splits=5, shuffle=True)\n",
    "\n",
    "# store results here\n",
    "lr_results = []\n",
    "for lr in learning_rates:\n",
    "    # 5 fold cross validation\n",
    "    train_accuracies = []\n",
    "    val_accuracies = []\n",
    "    \n",
    "    # for each split, get train and val accuracies\n",
    "    for train_index, val_index in lr_cross_val.split(X, expectedData):\n",
    "        # split\n",
    "        X_train, X_val = X[train_index], X[val_index]\n",
    "        y_train, y_val = expectedData.iloc[train_index], expectedData.iloc[val_index]\n",
    "\n",
    "        # initialize model here with learning rate\n",
    "        nn_model = MLPClassifier(hidden_layer_sizes=(32, 32), max_iter=500, learning_rate_init=lr)\n",
    "        \n",
    "        # fit\n",
    "        nn_model.fit(X_train, y_train)\n",
    "        \n",
    "        # get accuracies\n",
    "        train_accuracies.append(nn_model.score(X_train, y_train))\n",
    "        val_accuracies.append(nn_model.score(X_val, y_val))\n",
    "\n",
    "    train_mean = np.mean(train_accuracies)\n",
    "    train_std = np.std(train_accuracies)\n",
    "    val_mean = np.mean(val_accuracies)\n",
    "    val_std = np.std(val_accuracies)\n",
    "\n",
    "    lr_results.append({\n",
    "        'Learning Rate': lr,\n",
    "        'Training Accuracy Mean': train_mean,\n",
    "        'Training Accuracy Std': train_std,\n",
    "        'Validation Accuracy Mean': val_mean,\n",
    "        'Validation Accuracy Std': val_std\n",
    "    })\n",
    "\n",
    "lr_results_df = pd.DataFrame(lr_results)\n",
    "print(\"| Learning Rate | Training Accuracy Mean | Training STDs | Validation Accuracy | Validation STDs |\")\n",
    "print(\"|---------------|------------------------|---------------|---------------------|-----------------|\")\n",
    "for i, value in enumerate(lr_results_df['Learning Rate']):\n",
    "    training_means = lr_results_df['Training Accuracy Mean']\n",
    "    training_stds = lr_results_df['Training Accuracy Std']\n",
    "    validation_means = lr_results_df['Validation Accuracy Mean']\n",
    "    validation_stds = lr_results_df['Validation Accuracy Std']\n",
    "    print(f\"| {value:<13} | {training_means[i]:<22.4f} | {training_stds[i]:<13.4f} | {validation_means[i]:<19.4f} | {validation_stds[i]:<15.4f} |\")\n",
    "\n",
    "# Now plot - needs to be line graph\n",
    "fig, plot_lr = plt.subplots()\n",
    "\n",
    "# Training and validation acc\n",
    "plot_lr.plot(lr_results_df['Learning Rate'], lr_results_df['Training Accuracy Mean'], label='Training Accuracy', marker='o')\n",
    "plot_lr.plot(lr_results_df['Learning Rate'], lr_results_df['Validation Accuracy Mean'], label='Validation Accuracy', marker='x')\n",
    "\n",
    "# labels and title\n",
    "plot_lr.set_xlabel('Learning Rate')\n",
    "plot_lr.set_ylabel('Accuracy')\n",
    "plot_lr.set_title('Training & Validation Accuracy vs Learning Rate')\n",
    "plot_lr.legend()\n",
    "\n",
    "plot_lr.grid(True)\n",
    "plt.show()\n"
   ]
  },
  {
   "cell_type": "markdown",
   "metadata": {},
   "source": [
    "Question 2 - Testing on different optimizers\n",
    "---------------------------------------------------------------"
   ]
  },
  {
   "cell_type": "code",
   "execution_count": 102,
   "metadata": {},
   "outputs": [
    {
     "name": "stderr",
     "output_type": "stream",
     "text": [
      "c:\\Users\\nsano\\source\\repos\\CSE572HW2\\cse572\\Lib\\site-packages\\sklearn\\neural_network\\_multilayer_perceptron.py:691: ConvergenceWarning: Stochastic Optimizer: Maximum iterations (500) reached and the optimization hasn't converged yet.\n",
      "  warnings.warn(\n",
      "c:\\Users\\nsano\\source\\repos\\CSE572HW2\\cse572\\Lib\\site-packages\\sklearn\\neural_network\\_multilayer_perceptron.py:691: ConvergenceWarning: Stochastic Optimizer: Maximum iterations (500) reached and the optimization hasn't converged yet.\n",
      "  warnings.warn(\n",
      "c:\\Users\\nsano\\source\\repos\\CSE572HW2\\cse572\\Lib\\site-packages\\sklearn\\neural_network\\_multilayer_perceptron.py:691: ConvergenceWarning: Stochastic Optimizer: Maximum iterations (500) reached and the optimization hasn't converged yet.\n",
      "  warnings.warn(\n",
      "c:\\Users\\nsano\\source\\repos\\CSE572HW2\\cse572\\Lib\\site-packages\\sklearn\\neural_network\\_multilayer_perceptron.py:691: ConvergenceWarning: Stochastic Optimizer: Maximum iterations (500) reached and the optimization hasn't converged yet.\n",
      "  warnings.warn(\n",
      "c:\\Users\\nsano\\source\\repos\\CSE572HW2\\cse572\\Lib\\site-packages\\sklearn\\neural_network\\_multilayer_perceptron.py:691: ConvergenceWarning: Stochastic Optimizer: Maximum iterations (500) reached and the optimization hasn't converged yet.\n",
      "  warnings.warn(\n"
     ]
    },
    {
     "name": "stdout",
     "output_type": "stream",
     "text": [
      "| Optimizer | Training Accuracy Mean | Training STDs | Validation Accuracy | Validation STDs |\n",
      "|-----------|------------------------|---------------|---------------------|-----------------|\n",
      "| adam      | 1.0000                 | 0.0000        | 0.9700              | 0.0122          |\n",
      "| sgd       | 0.6725                 | 0.0978        | 0.6110              | 0.0835          |\n",
      "| lbfgs     | 1.0000                 | 0.0000        | 0.9520              | 0.0169          |\n"
     ]
    },
    {
     "data": {
      "image/png": "[encoded data removed]",
      "text/plain": [
       "<Figure size 640x480 with 1 Axes>"
      ]
     },
     "metadata": {},
     "output_type": "display_data"
    },
    {
     "data": {
      "image/png": "[encoded data removed]",
      "text/plain": [
       "<Figure size 640x480 with 1 Axes>"
      ]
     },
     "metadata": {},
     "output_type": "display_data"
    }
   ],
   "source": [
    "# Optimizers\n",
    "\n",
    "X = X_tfidf  # best feature method from q1\n",
    "y = traningData['Category']\n",
    "\n",
    "optimizer_cross_val = StratifiedKFold(n_splits=5, shuffle=True)\n",
    "\n",
    "\n",
    "# list of optimzers to test\n",
    "optimizers = ['adam', 'sgd', 'lbfgs']\n",
    "\n",
    "\n",
    "optimizer_results = []\n",
    "for optimizer in optimizers:\n",
    "    # 5 fold cross validation\n",
    "    train_accuracies = []\n",
    "    val_accuracies = []\n",
    "    \n",
    "    # for each split, get train and val accuracies\n",
    "    for train_index, val_index in optimizer_cross_val.split(X, expectedData):\n",
    "        # split\n",
    "        X_train, X_val = X[train_index], X[val_index]\n",
    "        y_train, y_val = expectedData.iloc[train_index], expectedData.iloc[val_index]\n",
    "\n",
    "        # initialize model here with learning rate\n",
    "        nn_model = MLPClassifier(hidden_layer_sizes=(32, 32), max_iter=500, solver=optimizer)\n",
    "        \n",
    "        # fit\n",
    "        nn_model.fit(X_train, y_train)\n",
    "        \n",
    "        # get accuracies\n",
    "        train_accuracies.append(nn_model.score(X_train, y_train))\n",
    "        val_accuracies.append(nn_model.score(X_val, y_val))\n",
    "\n",
    "    train_mean = np.mean(train_accuracies)\n",
    "    train_std = np.std(train_accuracies)\n",
    "    val_mean = np.mean(val_accuracies)\n",
    "    val_std = np.std(val_accuracies)\n",
    "\n",
    "    optimizer_results.append({\n",
    "        'Optimizer': optimizer,\n",
    "        'Training Accuracy Mean': train_mean,\n",
    "        'Training Accuracy Std': train_std,\n",
    "        'Validation Accuracy Mean': val_mean,\n",
    "        'Validation Accuracy Std': val_std\n",
    "    })\n",
    "\n",
    "optimizer_results_df = pd.DataFrame(optimizer_results)\n",
    "print(\"| Optimizer | Training Accuracy Mean | Training STDs | Validation Accuracy | Validation STDs |\")\n",
    "print(\"|-----------|------------------------|---------------|---------------------|-----------------|\")\n",
    "for i, value in enumerate(optimizer_results_df['Optimizer']):\n",
    "    training_means = optimizer_results_df['Training Accuracy Mean']\n",
    "    training_stds = optimizer_results_df['Training Accuracy Std']\n",
    "    validation_means = optimizer_results_df['Validation Accuracy Mean']\n",
    "    validation_stds = optimizer_results_df['Validation Accuracy Std']\n",
    "    print(f\"| {value:<9} | {training_means[i]:<22.4f} | {training_stds[i]:<13.4f} | {validation_means[i]:<19.4f} | {validation_stds[i]:<15.4f} |\")\n",
    "\n",
    "plot(optimizer_results_df, \"Optimizer\")\n"
   ]
  },
  {
   "cell_type": "markdown",
   "metadata": {},
   "source": [
    "---------------------------------------------------------------\n",
    "Question 3 - Preprocess and get features\n",
    "---------------------------------------------------------------"
   ]
  },
  {
   "cell_type": "markdown",
   "metadata": {},
   "source": [
    "Preprocessing steps, same as before, and using BERT"
   ]
  },
  {
   "cell_type": "code",
   "execution_count": null,
   "metadata": {},
   "outputs": [],
   "source": [
    "# load testing data\n",
    "testingData = pd.read_csv('news-test-1.csv', header='infer')\n",
    "testingData['Processed_Text'] = testingData['Text'].apply(lambda x: ' '.join(get_tokens(str(x))))\n",
    "\n",
    "test_tfidf_vectorizer = TfidfVectorizer()\n",
    "X_train = test_tfidf_vectorizer.fit_transform(traningData['Processed_Text'])\n",
    "X_test = test_tfidf_vectorizer.transform(testingData['Processed_Text'])\n",
    "\n",
    "X_train_q3 = X_train.toarray()\n",
    "X_test_q3 = X_test.toarray()"
   ]
  },
  {
   "cell_type": "markdown",
   "metadata": {},
   "source": [
    "Question 3 - Predict the labels for the testing data\n",
    "---------------------------------------------------------------"
   ]
  },
  {
   "cell_type": "markdown",
   "metadata": {},
   "source": [
    "Train the model here using training data and then predict, print, and save"
   ]
  },
  {
   "cell_type": "code",
   "execution_count": 105,
   "metadata": {},
   "outputs": [
    {
     "name": "stdout",
     "output_type": "stream",
     "text": [
      "Training Accuracy Mean: 1.0, Training Accuracy Std: 0.0\n",
      "Validation Accuracy Mean: 0.9710000000000001, Validation Accuracy Std: 0.006633249580710806\n",
      "   ArticleId Predicted Category\n",
      "0       1225           business\n",
      "1       1576      entertainment\n",
      "2       1353           business\n",
      "3       1138              sport\n",
      "4       1915           politics\n"
     ]
    }
   ],
   "source": [
    "from sklearn.model_selection import StratifiedKFold, cross_val_score\n",
    "from sklearn.neural_network import MLPClassifier\n",
    "import numpy as np\n",
    "\n",
    "\n",
    "nn_model = MLPClassifier(hidden_layer_sizes=(32, 32), max_iter=500, solver='adam', learning_rate_init=0.001)\n",
    "\n",
    "# 5 fold cross validation\n",
    "test_cross_val = StratifiedKFold(n_splits=5, shuffle=True)\n",
    "\n",
    "expectedData = traningData['Category']\n",
    "\n",
    "final_train_accuracies = []\n",
    "final_val_accuracies = []\n",
    "# for each split, get train and val accuracies\n",
    "for train_index, val_index in test_cross_val.split(X_train_q3, expectedData):\n",
    "    # split\n",
    "    X_train, X_val = X_train_q3[train_index], X_train_q3[val_index]\n",
    "    y_trin, y_val = expectedData.iloc[train_index], expectedData.iloc[val_index]\n",
    "    \n",
    "    # fit\n",
    "    nn_model.fit(X_train, y_trin)\n",
    "    \n",
    "    # get accuracies\n",
    "    final_train_accuracies.append(nn_model.score(X_train, y_trin))\n",
    "    final_val_accuracies.append(nn_model.score(X_val, y_val))\n",
    "\n",
    "train_mean = np.mean(final_train_accuracies)\n",
    "train_std = np.std(final_train_accuracies)\n",
    "val_mean = np.mean(final_val_accuracies)\n",
    "val_std = np.std(final_val_accuracies)\n",
    "\n",
    "print(f\"Training Accuracy Mean: {train_mean}, Training Accuracy Std: {train_std}\")\n",
    "print(f\"Validation Accuracy Mean: {val_mean}, Validation Accuracy Std: {val_std}\")\n",
    "\n",
    "# make the prediction\n",
    "predictions = nn_model.predict(X_test_q3)\n",
    "\n",
    "predicted_labels = pd.DataFrame({\n",
    "    'ArticleId': testingData['ArticleId'],\n",
    "    'Predicted Category': predictions\n",
    "})\n",
    "# save to csv\n",
    "predicted_labels.to_csv('labels.csv', header=False, index=False, columns=['ArticleId', 'Predicted Category'])\n",
    "print(predicted_labels.head())\n"
   ]
  }
 ],
 "metadata": {
  "kernelspec": {
   "display_name": "cse572",
   "language": "python",
   "name": "python3"
  },
  "language_info": {
   "codemirror_mode": {
    "name": "ipython",
    "version": 3
   },
   "file_extension": ".py",
   "mimetype": "text/x-python",
   "name": "python",
   "nbconvert_exporter": "python",
   "pygments_lexer": "ipython3",
   "version": "3.13.2"
  }
 },
 "nbformat": 4,
 "nbformat_minor": 2
}
